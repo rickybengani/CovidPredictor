{
  "nbformat": 4,
  "nbformat_minor": 0,
  "metadata": {
    "colab": {
      "name": "CovidDataset.ipynb",
      "provenance": []
    },
    "kernelspec": {
      "name": "python3",
      "display_name": "Python 3"
    }
  },
  "cells": [
    {
      "cell_type": "markdown",
      "metadata": {
        "id": "w2kjztk_oSIj",
        "colab_type": "text"
      },
      "source": [
        "Imports"
      ]
    },
    {
      "cell_type": "code",
      "metadata": {
        "id": "cNTb6PmZfFF-",
        "colab_type": "code",
        "colab": {}
      },
      "source": [
        "import pandas as pd\n",
        "import seaborn as sns\n",
        "import numpy as np\n",
        "from matplotlib import pyplot as plt"
      ],
      "execution_count": null,
      "outputs": []
    },
    {
      "cell_type": "markdown",
      "metadata": {
        "id": "pbz6rxeOJAE8",
        "colab_type": "text"
      },
      "source": [
        "Initial Prep"
      ]
    },
    {
      "cell_type": "code",
      "metadata": {
        "id": "ssTtSV6ufvta",
        "colab_type": "code",
        "colab": {
          "base_uri": "https://localhost:8080/",
          "height": 309
        },
        "outputId": "ab3bb60e-4e8d-46a1-f48c-b71f23a63fcb"
      },
      "source": [
        "df = pd.read_csv('https://covid.ourworldindata.org/data/owid-covid-data.csv')\n",
        "\n",
        "df = df[df['iso_code'].notna()] # drop NaN locations\n",
        "df = df[df['iso_code'] != 'OWID_WRL'] # and World data\n",
        "\n",
        "df['date']= pd.to_datetime(df['date']) # make date datetime\n",
        "df.continent = df.continent.astype('category') # make continent datetime\n",
        "df.location = df.location.astype('category') # make country category\n",
        "# df['location'].cat.categories\n",
        "\n",
        "# Delete rows with total cases = 0\n",
        "indexNames = df[ df['total_cases'] == 0 ].index\n",
        "df.drop(indexNames , inplace=True)\n",
        "df.reset_index(inplace=True, drop=True)\n",
        "df.head()"
      ],
      "execution_count": null,
      "outputs": [
        {
          "output_type": "execute_result",
          "data": {
            "text/html": [
              "<div>\n",
              "<style scoped>\n",
              "    .dataframe tbody tr th:only-of-type {\n",
              "        vertical-align: middle;\n",
              "    }\n",
              "\n",
              "    .dataframe tbody tr th {\n",
              "        vertical-align: top;\n",
              "    }\n",
              "\n",
              "    .dataframe thead th {\n",
              "        text-align: right;\n",
              "    }\n",
              "</style>\n",
              "<table border=\"1\" class=\"dataframe\">\n",
              "  <thead>\n",
              "    <tr style=\"text-align: right;\">\n",
              "      <th></th>\n",
              "      <th>iso_code</th>\n",
              "      <th>continent</th>\n",
              "      <th>location</th>\n",
              "      <th>date</th>\n",
              "      <th>total_cases</th>\n",
              "      <th>new_cases</th>\n",
              "      <th>total_deaths</th>\n",
              "      <th>new_deaths</th>\n",
              "      <th>total_cases_per_million</th>\n",
              "      <th>new_cases_per_million</th>\n",
              "      <th>total_deaths_per_million</th>\n",
              "      <th>new_deaths_per_million</th>\n",
              "      <th>new_tests</th>\n",
              "      <th>total_tests</th>\n",
              "      <th>total_tests_per_thousand</th>\n",
              "      <th>new_tests_per_thousand</th>\n",
              "      <th>new_tests_smoothed</th>\n",
              "      <th>new_tests_smoothed_per_thousand</th>\n",
              "      <th>tests_units</th>\n",
              "      <th>stringency_index</th>\n",
              "      <th>population</th>\n",
              "      <th>population_density</th>\n",
              "      <th>median_age</th>\n",
              "      <th>aged_65_older</th>\n",
              "      <th>aged_70_older</th>\n",
              "      <th>gdp_per_capita</th>\n",
              "      <th>extreme_poverty</th>\n",
              "      <th>cardiovasc_death_rate</th>\n",
              "      <th>diabetes_prevalence</th>\n",
              "      <th>female_smokers</th>\n",
              "      <th>male_smokers</th>\n",
              "      <th>handwashing_facilities</th>\n",
              "      <th>hospital_beds_per_thousand</th>\n",
              "      <th>life_expectancy</th>\n",
              "    </tr>\n",
              "  </thead>\n",
              "  <tbody>\n",
              "    <tr>\n",
              "      <th>0</th>\n",
              "      <td>ABW</td>\n",
              "      <td>North America</td>\n",
              "      <td>Aruba</td>\n",
              "      <td>2020-03-13</td>\n",
              "      <td>2.0</td>\n",
              "      <td>2.0</td>\n",
              "      <td>0.0</td>\n",
              "      <td>0.0</td>\n",
              "      <td>18.733</td>\n",
              "      <td>18.733</td>\n",
              "      <td>0.0</td>\n",
              "      <td>0.0</td>\n",
              "      <td>NaN</td>\n",
              "      <td>NaN</td>\n",
              "      <td>NaN</td>\n",
              "      <td>NaN</td>\n",
              "      <td>NaN</td>\n",
              "      <td>NaN</td>\n",
              "      <td>NaN</td>\n",
              "      <td>0.00</td>\n",
              "      <td>106766.0</td>\n",
              "      <td>584.8</td>\n",
              "      <td>41.2</td>\n",
              "      <td>13.085</td>\n",
              "      <td>7.452</td>\n",
              "      <td>35973.781</td>\n",
              "      <td>NaN</td>\n",
              "      <td>NaN</td>\n",
              "      <td>11.62</td>\n",
              "      <td>NaN</td>\n",
              "      <td>NaN</td>\n",
              "      <td>NaN</td>\n",
              "      <td>NaN</td>\n",
              "      <td>76.29</td>\n",
              "    </tr>\n",
              "    <tr>\n",
              "      <th>1</th>\n",
              "      <td>ABW</td>\n",
              "      <td>North America</td>\n",
              "      <td>Aruba</td>\n",
              "      <td>2020-03-20</td>\n",
              "      <td>4.0</td>\n",
              "      <td>2.0</td>\n",
              "      <td>0.0</td>\n",
              "      <td>0.0</td>\n",
              "      <td>37.465</td>\n",
              "      <td>18.733</td>\n",
              "      <td>0.0</td>\n",
              "      <td>0.0</td>\n",
              "      <td>NaN</td>\n",
              "      <td>NaN</td>\n",
              "      <td>NaN</td>\n",
              "      <td>NaN</td>\n",
              "      <td>NaN</td>\n",
              "      <td>NaN</td>\n",
              "      <td>NaN</td>\n",
              "      <td>33.33</td>\n",
              "      <td>106766.0</td>\n",
              "      <td>584.8</td>\n",
              "      <td>41.2</td>\n",
              "      <td>13.085</td>\n",
              "      <td>7.452</td>\n",
              "      <td>35973.781</td>\n",
              "      <td>NaN</td>\n",
              "      <td>NaN</td>\n",
              "      <td>11.62</td>\n",
              "      <td>NaN</td>\n",
              "      <td>NaN</td>\n",
              "      <td>NaN</td>\n",
              "      <td>NaN</td>\n",
              "      <td>76.29</td>\n",
              "    </tr>\n",
              "    <tr>\n",
              "      <th>2</th>\n",
              "      <td>ABW</td>\n",
              "      <td>North America</td>\n",
              "      <td>Aruba</td>\n",
              "      <td>2020-03-24</td>\n",
              "      <td>12.0</td>\n",
              "      <td>8.0</td>\n",
              "      <td>0.0</td>\n",
              "      <td>0.0</td>\n",
              "      <td>112.395</td>\n",
              "      <td>74.930</td>\n",
              "      <td>0.0</td>\n",
              "      <td>0.0</td>\n",
              "      <td>NaN</td>\n",
              "      <td>NaN</td>\n",
              "      <td>NaN</td>\n",
              "      <td>NaN</td>\n",
              "      <td>NaN</td>\n",
              "      <td>NaN</td>\n",
              "      <td>NaN</td>\n",
              "      <td>44.44</td>\n",
              "      <td>106766.0</td>\n",
              "      <td>584.8</td>\n",
              "      <td>41.2</td>\n",
              "      <td>13.085</td>\n",
              "      <td>7.452</td>\n",
              "      <td>35973.781</td>\n",
              "      <td>NaN</td>\n",
              "      <td>NaN</td>\n",
              "      <td>11.62</td>\n",
              "      <td>NaN</td>\n",
              "      <td>NaN</td>\n",
              "      <td>NaN</td>\n",
              "      <td>NaN</td>\n",
              "      <td>76.29</td>\n",
              "    </tr>\n",
              "    <tr>\n",
              "      <th>3</th>\n",
              "      <td>ABW</td>\n",
              "      <td>North America</td>\n",
              "      <td>Aruba</td>\n",
              "      <td>2020-03-25</td>\n",
              "      <td>17.0</td>\n",
              "      <td>5.0</td>\n",
              "      <td>0.0</td>\n",
              "      <td>0.0</td>\n",
              "      <td>159.227</td>\n",
              "      <td>46.831</td>\n",
              "      <td>0.0</td>\n",
              "      <td>0.0</td>\n",
              "      <td>NaN</td>\n",
              "      <td>NaN</td>\n",
              "      <td>NaN</td>\n",
              "      <td>NaN</td>\n",
              "      <td>NaN</td>\n",
              "      <td>NaN</td>\n",
              "      <td>NaN</td>\n",
              "      <td>44.44</td>\n",
              "      <td>106766.0</td>\n",
              "      <td>584.8</td>\n",
              "      <td>41.2</td>\n",
              "      <td>13.085</td>\n",
              "      <td>7.452</td>\n",
              "      <td>35973.781</td>\n",
              "      <td>NaN</td>\n",
              "      <td>NaN</td>\n",
              "      <td>11.62</td>\n",
              "      <td>NaN</td>\n",
              "      <td>NaN</td>\n",
              "      <td>NaN</td>\n",
              "      <td>NaN</td>\n",
              "      <td>76.29</td>\n",
              "    </tr>\n",
              "    <tr>\n",
              "      <th>4</th>\n",
              "      <td>ABW</td>\n",
              "      <td>North America</td>\n",
              "      <td>Aruba</td>\n",
              "      <td>2020-03-26</td>\n",
              "      <td>19.0</td>\n",
              "      <td>2.0</td>\n",
              "      <td>0.0</td>\n",
              "      <td>0.0</td>\n",
              "      <td>177.959</td>\n",
              "      <td>18.733</td>\n",
              "      <td>0.0</td>\n",
              "      <td>0.0</td>\n",
              "      <td>NaN</td>\n",
              "      <td>NaN</td>\n",
              "      <td>NaN</td>\n",
              "      <td>NaN</td>\n",
              "      <td>NaN</td>\n",
              "      <td>NaN</td>\n",
              "      <td>NaN</td>\n",
              "      <td>44.44</td>\n",
              "      <td>106766.0</td>\n",
              "      <td>584.8</td>\n",
              "      <td>41.2</td>\n",
              "      <td>13.085</td>\n",
              "      <td>7.452</td>\n",
              "      <td>35973.781</td>\n",
              "      <td>NaN</td>\n",
              "      <td>NaN</td>\n",
              "      <td>11.62</td>\n",
              "      <td>NaN</td>\n",
              "      <td>NaN</td>\n",
              "      <td>NaN</td>\n",
              "      <td>NaN</td>\n",
              "      <td>76.29</td>\n",
              "    </tr>\n",
              "  </tbody>\n",
              "</table>\n",
              "</div>"
            ],
            "text/plain": [
              "  iso_code      continent  ... hospital_beds_per_thousand life_expectancy\n",
              "0      ABW  North America  ...                        NaN           76.29\n",
              "1      ABW  North America  ...                        NaN           76.29\n",
              "2      ABW  North America  ...                        NaN           76.29\n",
              "3      ABW  North America  ...                        NaN           76.29\n",
              "4      ABW  North America  ...                        NaN           76.29\n",
              "\n",
              "[5 rows x 34 columns]"
            ]
          },
          "metadata": {
            "tags": []
          },
          "execution_count": 21
        }
      ]
    },
    {
      "cell_type": "markdown",
      "metadata": {
        "id": "R37ucWWlJMYx",
        "colab_type": "text"
      },
      "source": [
        "Filling in NaNs"
      ]
    },
    {
      "cell_type": "code",
      "metadata": {
        "id": "Q9t_r-VlI2v4",
        "colab_type": "code",
        "colab": {
          "base_uri": "https://localhost:8080/",
          "height": 855
        },
        "outputId": "c47c88ba-368a-4f2a-97bc-8f8596037a95"
      },
      "source": [
        "# Too many nans\n",
        "df.drop(inplace=True, columns=[\"new_tests\", \"total_tests\", \"total_tests_per_thousand\", \"new_tests_per_thousand\", \"new_tests_smoothed\", \"new_tests_smoothed_per_thousand\", \"tests_units\", \"handwashing_facilities\"])\n",
        "# Dropping rows with too much missing data on total_cases and more\n",
        "df = df[df['total_cases'].notna()]\n",
        "# Fills in nans by category - soo cooool! Could definitely do this cleaner but eh.\n",
        "df.stringency_index = df.groupby('location')['stringency_index'].apply(lambda x: x.fillna(x.mean()))\n",
        "df.stringency_index = df.stringency_index.fillna(df.stringency_index.mean())\n",
        "df.population_density = df.groupby('location')['population_density'].apply(lambda x: x.fillna(x.mean()))\n",
        "df.population_density = df.population_density.fillna(df.population_density.mean())\n",
        "df.median_age = df.groupby('location')['median_age'].apply(lambda x: x.fillna(x.mean()))\n",
        "df.median_age = df.median_age.fillna(df.median_age.mean())\n",
        "df.aged_65_older = df.groupby('location')['aged_65_older'].apply(lambda x: x.fillna(x.mean()))\n",
        "df.aged_65_older = df.aged_65_older.fillna(df.aged_65_older.mean())\n",
        "df.aged_70_older = df.groupby('location')['aged_70_older'].apply(lambda x: x.fillna(x.mean()))\n",
        "df.aged_70_older = df.aged_70_older.fillna(df.aged_70_older.mean())\n",
        "df.gdp_per_capita = df.groupby('location')['gdp_per_capita'].apply(lambda x: x.fillna(x.mean()))\n",
        "df.gdp_per_capita = df.gdp_per_capita.fillna(df.gdp_per_capita.mean())\n",
        "df.extreme_poverty = df.groupby('location')['extreme_poverty'].apply(lambda x: x.fillna(x.mean()))\n",
        "df.extreme_poverty = df.extreme_poverty.fillna(df.extreme_poverty.mean())\n",
        "df.cardiovasc_death_rate = df.groupby('location')['cardiovasc_death_rate'].apply(lambda x: x.fillna(x.mean()))\n",
        "df.cardiovasc_death_rate = df.cardiovasc_death_rate.fillna(df.cardiovasc_death_rate.mean())\n",
        "df.diabetes_prevalence = df.groupby('location')['diabetes_prevalence'].apply(lambda x: x.fillna(x.mean()))\n",
        "df.diabetes_prevalence = df.diabetes_prevalence.fillna(df.diabetes_prevalence.mean())\n",
        "df.female_smokers = df.groupby('location')['female_smokers'].apply(lambda x: x.fillna(x.mean()))\n",
        "df.female_smokers = df.female_smokers.fillna(df.female_smokers.mean())\n",
        "df.male_smokers = df.groupby('location')['male_smokers'].apply(lambda x: x.fillna(x.mean()))\n",
        "df.male_smokers = df.male_smokers.fillna(df.male_smokers.mean())\n",
        "df.hospital_beds_per_thousand = df.groupby('location')['hospital_beds_per_thousand'].apply(lambda x: x.fillna(x.mean()))\n",
        "df.hospital_beds_per_thousand = df.hospital_beds_per_thousand.fillna(df.hospital_beds_per_thousand.mean())\n",
        "df.life_expectancy = df.groupby('location')['life_expectancy'].apply(lambda x: x.fillna(x.mean()))\n",
        "df.life_expectancy = df.life_expectancy.fillna(df.life_expectancy.mean())\n",
        "\n",
        "# Check columns missing value %\n",
        "percent_missing = df.isnull().sum() * 100 / len(df)\n",
        "missing_value_df = pd.DataFrame({'column_name': df.columns,\n",
        "                                 'percent_missing': percent_missing})\n",
        "# missing_value_df # see the percentage of missing values\n",
        "\n",
        "# df[\"new_tests\"] = df.groupby(\"location\").transform(lambda x: x.fillna(x.mean())) # Fill NaN by mean in each group\n",
        "# df[\"total_tests\"] = df.groupby(\"location\").transform(lambda x: x.fillna(x.mean())) # Fill NaN by mean in each group\n",
        "\n",
        "missing_value_df\n"
      ],
      "execution_count": null,
      "outputs": [
        {
          "output_type": "execute_result",
          "data": {
            "text/html": [
              "<div>\n",
              "<style scoped>\n",
              "    .dataframe tbody tr th:only-of-type {\n",
              "        vertical-align: middle;\n",
              "    }\n",
              "\n",
              "    .dataframe tbody tr th {\n",
              "        vertical-align: top;\n",
              "    }\n",
              "\n",
              "    .dataframe thead th {\n",
              "        text-align: right;\n",
              "    }\n",
              "</style>\n",
              "<table border=\"1\" class=\"dataframe\">\n",
              "  <thead>\n",
              "    <tr style=\"text-align: right;\">\n",
              "      <th></th>\n",
              "      <th>column_name</th>\n",
              "      <th>percent_missing</th>\n",
              "    </tr>\n",
              "  </thead>\n",
              "  <tbody>\n",
              "    <tr>\n",
              "      <th>iso_code</th>\n",
              "      <td>iso_code</td>\n",
              "      <td>0.0</td>\n",
              "    </tr>\n",
              "    <tr>\n",
              "      <th>continent</th>\n",
              "      <td>continent</td>\n",
              "      <td>0.0</td>\n",
              "    </tr>\n",
              "    <tr>\n",
              "      <th>location</th>\n",
              "      <td>location</td>\n",
              "      <td>0.0</td>\n",
              "    </tr>\n",
              "    <tr>\n",
              "      <th>date</th>\n",
              "      <td>date</td>\n",
              "      <td>0.0</td>\n",
              "    </tr>\n",
              "    <tr>\n",
              "      <th>total_cases</th>\n",
              "      <td>total_cases</td>\n",
              "      <td>0.0</td>\n",
              "    </tr>\n",
              "    <tr>\n",
              "      <th>new_cases</th>\n",
              "      <td>new_cases</td>\n",
              "      <td>0.0</td>\n",
              "    </tr>\n",
              "    <tr>\n",
              "      <th>total_deaths</th>\n",
              "      <td>total_deaths</td>\n",
              "      <td>0.0</td>\n",
              "    </tr>\n",
              "    <tr>\n",
              "      <th>new_deaths</th>\n",
              "      <td>new_deaths</td>\n",
              "      <td>0.0</td>\n",
              "    </tr>\n",
              "    <tr>\n",
              "      <th>total_cases_per_million</th>\n",
              "      <td>total_cases_per_million</td>\n",
              "      <td>0.0</td>\n",
              "    </tr>\n",
              "    <tr>\n",
              "      <th>new_cases_per_million</th>\n",
              "      <td>new_cases_per_million</td>\n",
              "      <td>0.0</td>\n",
              "    </tr>\n",
              "    <tr>\n",
              "      <th>total_deaths_per_million</th>\n",
              "      <td>total_deaths_per_million</td>\n",
              "      <td>0.0</td>\n",
              "    </tr>\n",
              "    <tr>\n",
              "      <th>new_deaths_per_million</th>\n",
              "      <td>new_deaths_per_million</td>\n",
              "      <td>0.0</td>\n",
              "    </tr>\n",
              "    <tr>\n",
              "      <th>stringency_index</th>\n",
              "      <td>stringency_index</td>\n",
              "      <td>0.0</td>\n",
              "    </tr>\n",
              "    <tr>\n",
              "      <th>population</th>\n",
              "      <td>population</td>\n",
              "      <td>0.0</td>\n",
              "    </tr>\n",
              "    <tr>\n",
              "      <th>population_density</th>\n",
              "      <td>population_density</td>\n",
              "      <td>0.0</td>\n",
              "    </tr>\n",
              "    <tr>\n",
              "      <th>median_age</th>\n",
              "      <td>median_age</td>\n",
              "      <td>0.0</td>\n",
              "    </tr>\n",
              "    <tr>\n",
              "      <th>aged_65_older</th>\n",
              "      <td>aged_65_older</td>\n",
              "      <td>0.0</td>\n",
              "    </tr>\n",
              "    <tr>\n",
              "      <th>aged_70_older</th>\n",
              "      <td>aged_70_older</td>\n",
              "      <td>0.0</td>\n",
              "    </tr>\n",
              "    <tr>\n",
              "      <th>gdp_per_capita</th>\n",
              "      <td>gdp_per_capita</td>\n",
              "      <td>0.0</td>\n",
              "    </tr>\n",
              "    <tr>\n",
              "      <th>extreme_poverty</th>\n",
              "      <td>extreme_poverty</td>\n",
              "      <td>0.0</td>\n",
              "    </tr>\n",
              "    <tr>\n",
              "      <th>cardiovasc_death_rate</th>\n",
              "      <td>cardiovasc_death_rate</td>\n",
              "      <td>0.0</td>\n",
              "    </tr>\n",
              "    <tr>\n",
              "      <th>diabetes_prevalence</th>\n",
              "      <td>diabetes_prevalence</td>\n",
              "      <td>0.0</td>\n",
              "    </tr>\n",
              "    <tr>\n",
              "      <th>female_smokers</th>\n",
              "      <td>female_smokers</td>\n",
              "      <td>0.0</td>\n",
              "    </tr>\n",
              "    <tr>\n",
              "      <th>male_smokers</th>\n",
              "      <td>male_smokers</td>\n",
              "      <td>0.0</td>\n",
              "    </tr>\n",
              "    <tr>\n",
              "      <th>hospital_beds_per_thousand</th>\n",
              "      <td>hospital_beds_per_thousand</td>\n",
              "      <td>0.0</td>\n",
              "    </tr>\n",
              "    <tr>\n",
              "      <th>life_expectancy</th>\n",
              "      <td>life_expectancy</td>\n",
              "      <td>0.0</td>\n",
              "    </tr>\n",
              "  </tbody>\n",
              "</table>\n",
              "</div>"
            ],
            "text/plain": [
              "                                           column_name  percent_missing\n",
              "iso_code                                      iso_code              0.0\n",
              "continent                                    continent              0.0\n",
              "location                                      location              0.0\n",
              "date                                              date              0.0\n",
              "total_cases                                total_cases              0.0\n",
              "new_cases                                    new_cases              0.0\n",
              "total_deaths                              total_deaths              0.0\n",
              "new_deaths                                  new_deaths              0.0\n",
              "total_cases_per_million        total_cases_per_million              0.0\n",
              "new_cases_per_million            new_cases_per_million              0.0\n",
              "total_deaths_per_million      total_deaths_per_million              0.0\n",
              "new_deaths_per_million          new_deaths_per_million              0.0\n",
              "stringency_index                      stringency_index              0.0\n",
              "population                                  population              0.0\n",
              "population_density                  population_density              0.0\n",
              "median_age                                  median_age              0.0\n",
              "aged_65_older                            aged_65_older              0.0\n",
              "aged_70_older                            aged_70_older              0.0\n",
              "gdp_per_capita                          gdp_per_capita              0.0\n",
              "extreme_poverty                        extreme_poverty              0.0\n",
              "cardiovasc_death_rate            cardiovasc_death_rate              0.0\n",
              "diabetes_prevalence                diabetes_prevalence              0.0\n",
              "female_smokers                          female_smokers              0.0\n",
              "male_smokers                              male_smokers              0.0\n",
              "hospital_beds_per_thousand  hospital_beds_per_thousand              0.0\n",
              "life_expectancy                        life_expectancy              0.0"
            ]
          },
          "metadata": {
            "tags": []
          },
          "execution_count": 22
        }
      ]
    },
    {
      "cell_type": "markdown",
      "metadata": {
        "id": "G0iaSLACnsjG",
        "colab_type": "text"
      },
      "source": [
        "Set Target and Features"
      ]
    },
    {
      "cell_type": "code",
      "metadata": {
        "id": "i-Z88fFxtnuZ",
        "colab_type": "code",
        "colab": {}
      },
      "source": [
        "target_name = 'new_deaths'\n",
        "# sibsp stands for the number of sibilings and parents on board\n",
        "feature_names = ['total_cases', 'new_cases',\n",
        "       'total_deaths', 'total_cases_per_million',\n",
        "       'new_cases_per_million', 'total_deaths_per_million',\n",
        "       'new_deaths_per_million', 'stringency_index', 'population',\n",
        "       'population_density', 'median_age', 'aged_65_older', 'aged_70_older',\n",
        "       'gdp_per_capita', 'extreme_poverty', 'cardiovasc_death_rate',\n",
        "       'diabetes_prevalence', 'female_smokers', 'male_smokers',\n",
        "       'hospital_beds_per_thousand', 'life_expectancy']\n",
        "X, y = df[feature_names], df[target_name]"
      ],
      "execution_count": null,
      "outputs": []
    },
    {
      "cell_type": "markdown",
      "metadata": {
        "id": "qMzrLoSznySL",
        "colab_type": "text"
      },
      "source": [
        "Test-Train Split"
      ]
    },
    {
      "cell_type": "code",
      "metadata": {
        "id": "vF-1f_9JgNZ6",
        "colab_type": "code",
        "colab": {
          "base_uri": "https://localhost:8080/",
          "height": 68
        },
        "outputId": "27f82628-46f2-4db9-ba8a-d057029c8f07"
      },
      "source": [
        "from sklearn.model_selection import train_test_split\n",
        "X_train, X_test, y_train, y_test = train_test_split(X, y, random_state=0)\n",
        "print(f\"Average new deaths in all data {round(y.mean(), 2)}\")\n",
        "print(f\"Average new deaths in the test data {round(y_test.mean(), 2)}\")\n",
        "print(f\"Average new deaths in the train data {round(y_train.mean(), 2)}\")"
      ],
      "execution_count": null,
      "outputs": [
        {
          "output_type": "stream",
          "text": [
            "Average new deaths in all data 22.27\n",
            "Average new deaths in the test data 23.64\n",
            "Average new deaths in the train data 21.82\n"
          ],
          "name": "stdout"
        }
      ]
    },
    {
      "cell_type": "markdown",
      "metadata": {
        "id": "FSktPazsn3jY",
        "colab_type": "text"
      },
      "source": [
        "Train Model"
      ]
    },
    {
      "cell_type": "code",
      "metadata": {
        "id": "W_t92r8ZDH-p",
        "colab_type": "code",
        "colab": {
          "base_uri": "https://localhost:8080/",
          "height": 85
        },
        "outputId": "d1605e1a-15b2-4696-a298-13205fb673b3"
      },
      "source": [
        "print('Training Features Shape:', X_train.shape)\n",
        "print('Training Labels Shape:', y_train.shape)\n",
        "print('Testing Features Shape:', X_test.shape)\n",
        "print('Testing Labels Shape:', y_test.shape)\n",
        "\n",
        "# Import the model we are using\n",
        "from sklearn.ensemble import RandomForestRegressor\n",
        "# Instantiate model with 1000 decision trees\n",
        "rf = RandomForestRegressor(n_estimators = 1000, random_state = 42)\n",
        "# Train the model on training data\n",
        "rf.fit(X_train, y_train);"
      ],
      "execution_count": null,
      "outputs": [
        {
          "output_type": "stream",
          "text": [
            "Training Features Shape: (22671, 21)\n",
            "Training Labels Shape: (22671,)\n",
            "Testing Features Shape: (7557, 21)\n",
            "Testing Labels Shape: (7557,)\n"
          ],
          "name": "stdout"
        }
      ]
    },
    {
      "cell_type": "markdown",
      "metadata": {
        "id": "6RDhltWcn_xA",
        "colab_type": "text"
      },
      "source": [
        "Test Model"
      ]
    },
    {
      "cell_type": "code",
      "metadata": {
        "id": "RsN-U23UfEnC",
        "colab_type": "code",
        "colab": {
          "base_uri": "https://localhost:8080/",
          "height": 34
        },
        "outputId": "03f385fa-3465-4e85-93cd-9f8b5ce99a08"
      },
      "source": [
        "# Use the forest's predict method on the test data\n",
        "predictions = rf.predict(X_test)\n",
        "# Calculate the absolute errors\n",
        "errors = abs(predictions - y_test)\n",
        "# Print out the mean absolute error (mae)\n",
        "print('Mean Absolute Error:', round(np.mean(errors), 2), 'degrees.')"
      ],
      "execution_count": null,
      "outputs": [
        {
          "output_type": "stream",
          "text": [
            "Mean Absolute Error: 2.39 degrees.\n"
          ],
          "name": "stdout"
        }
      ]
    },
    {
      "cell_type": "markdown",
      "metadata": {
        "id": "zr6B6Z-IoDaU",
        "colab_type": "text"
      },
      "source": [
        "Predict Wayca Deaths"
      ]
    },
    {
      "cell_type": "code",
      "metadata": {
        "id": "4Q0-er8KkOEh",
        "colab_type": "code",
        "colab": {
          "base_uri": "https://localhost:8080/",
          "height": 34
        },
        "outputId": "1a2f6bb1-10a8-4869-f5ec-b0539a59bb7a"
      },
      "source": [
        "wayca_test = pd.DataFrame (\n",
        "    {\n",
        "        'total_cases': [175494], 'new_cases': [3360], 'total_deaths': [2238], 'total_cases_per_million': [1065.61],\n",
        "        'new_cases_per_million': [20.402], 'total_deaths_per_million': [13589],\n",
        "        'new_deaths_per_million': [0.249], 'stringency_index': [74.54], 'population': [1.64689e+08],\n",
        "        'population_density': [1265.04], 'median_age': [27.5], 'aged_65_older': [5.098], 'aged_70_older': [3.262],\n",
        "        'gdp_per_capita': [3523.98], 'extreme_poverty': [14.8], 'cardiovasc_death_rate': [298.003],\n",
        "        'diabetes_prevalence': [8.38], 'female_smokers': [1], 'male_smokers': [44.7],\n",
        "        'hospital_beds_per_thousand': [0.8], 'life_expectancy': [72.59]\n",
        "    })\n",
        "\n",
        "# Use the forest's predict method on the test data\n",
        "wayca_predict = rf.predict(wayca_test)\n",
        "print(\"New Deaths in Wayca: \", wayca_predict[0])\n"
      ],
      "execution_count": null,
      "outputs": [
        {
          "output_type": "stream",
          "text": [
            "New Deaths in Wayca:  38.132\n"
          ],
          "name": "stdout"
        }
      ]
    }
  ]
}